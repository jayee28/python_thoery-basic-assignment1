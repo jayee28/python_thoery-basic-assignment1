{
 "cells": [
  {
   "cell_type": "code",
   "execution_count": null,
   "id": "8cf729af",
   "metadata": {},
   "outputs": [],
   "source": [
    "#Q.)In the below elements which of them are values or an expression? eg:- values can be\n",
    "integer or string and expressions will be mathematical operators.\n",
    "*\n",
    "\"hello\"\n",
    "-87.8\n",
    "-\n",
    "/\n",
    "+\n",
    "6\n",
    "\n",
    "Ans: * is mathematical operator\n",
    "     \"hello\" is string\n",
    "     -87.8 is float\n",
    "     -,/,+ all are mathematical operator\n",
    "     6 is integer"
   ]
  },
  {
   "cell_type": "code",
   "execution_count": null,
   "id": "0204c71c",
   "metadata": {},
   "outputs": [],
   "source": [
    "#Q.) What is the difference between string and variable?\n",
    "\n",
    "Variable:- Variable is a name that is used to refer to memory location.Variable is also known as identifier and use to hold data values inside RAM.Variable can store everything from string to number.The name of the variable can be chosen by us and the name must start with letters or underscore.\n",
    "    Simply we can think variable as a container that stores data values.\n",
    "    \n",
    "String:- String is a value that we store in a variable.It is a sequence of characters and enclosed with \"\".String in python is stored as individual characters i.e. indexed wise and the index by default starts with 0.String is immutable and hence we cannot change the individual letters of string using assignment operator.\n",
    "\n",
    "Example:- a= \"Hello\".\n",
    "Here,a is the Variable, and \"Hello\" is string."
   ]
  },
  {
   "cell_type": "code",
   "execution_count": null,
   "id": "18227454",
   "metadata": {},
   "outputs": [],
   "source": [
    "#Q.)Describe three different data types.\n",
    "\n",
    "Python has several data types:\n",
    "Integer(numbers without decimal).\n",
    "Float(decimal values).\n",
    "Boolean(True or False)."
   ]
  },
  {
   "cell_type": "code",
   "execution_count": null,
   "id": "39884a53",
   "metadata": {},
   "outputs": [],
   "source": [
    "#Q.)What is an expression made up of? What do all expressions do?\n",
    "\n",
    "##1st part\n",
    "An expression is a combination of operators and values and always evaluates down to a single value.\n",
    "For example, this is an expression:\n",
    "2 + 2 = 4\n",
    "The 2s are integer values and the + is the mathematical operator. This expression evaluates down to the single integer value 4.\n",
    "Here, in expression,values isn't limited to math problems.\n",
    "\n",
    "#2nd part\n",
    "Expressions perform the work of a program. Among other things, expressions are used to compute and to assign values to variables and to help control the execution flow of a program. The job of an expression is to perform the computation indicated by the elements of the expression and to return a value that is the result of the computation."
   ]
  },
  {
   "cell_type": "code",
   "execution_count": null,
   "id": "dcb0743c",
   "metadata": {},
   "outputs": [],
   "source": [
    "#Q.)This assignment statements, like spam = 10. What is the difference between an\n",
    "expression and a statement?\n",
    "\n",
    "An Expression always evaluates to a value and a statement is a programming instruction that does something, like creating a variable or displaying a value, it only does whatever the statement says.Every expression can’t be a statement but every statement can be an expression.Evaluation of an expression always produces or returns a result value but execution of a statement may or may not produces or displays a result value, it only does whatever the statement says.\n",
    "\n",
    "Example of an expression:\n",
    "a= int(input(\"Enter the no:\"))\n",
    "a + 6\n",
    "print(\"Sum:\",a)\n",
    ">>Enter the no:4\n",
    "Sum:10\n",
    "\n",
    "Example of a statement:\n",
    "x = 3\n",
    "print(x)\n",
    ">>3"
   ]
  },
  {
   "cell_type": "code",
   "execution_count": null,
   "id": "f7093faa",
   "metadata": {},
   "outputs": [],
   "source": [
    "#Q.)After running the following code, what does the variable bacon contain?\n",
    "bacon = 22\n",
    "bacon + 1\n",
    "\n",
    ">>23"
   ]
  },
  {
   "cell_type": "code",
   "execution_count": null,
   "id": "53543451",
   "metadata": {},
   "outputs": [],
   "source": [
    "#Q.)What should the values of the following two terms be?\n",
    "\n",
    "\"spam\" + \"spamspam\"\n",
    ">>spamspamspam\n",
    "\n",
    "\"spam\" * 3\n",
    ">> spamspamspam"
   ]
  },
  {
   "cell_type": "code",
   "execution_count": null,
   "id": "2b44886e",
   "metadata": {},
   "outputs": [],
   "source": [
    "#Q.)Why is eggs a valid variable name while 100 is invalid?\n",
    "\n",
    "Because the name of variable must start with any letter and underscore(_) and remaining character should be a-z or A-Z or 0-9 or _ "
   ]
  },
  {
   "cell_type": "code",
   "execution_count": null,
   "id": "684f3871",
   "metadata": {},
   "outputs": [],
   "source": [
    "#Q.)What three functions can be used to get the integer, floating-point number, or string\n",
    "version of a value?\n",
    "\n",
    "The function can be used to get the integer is int\n",
    "The function can be used to get the floating point no is float\n",
    "The function can be used to get the string is str"
   ]
  },
  {
   "cell_type": "code",
   "execution_count": null,
   "id": "c617c0b5",
   "metadata": {},
   "outputs": [],
   "source": [
    "#Q.)Why does this expression cause an error? How can you fix it?\n",
    "\"I have eaten\" + 99 + \"burritos\"\n",
    "\n",
    "Here, we are doing string concatination. In string concatination, it concate only string to string.So, we have to put the integer 99 within quotes as we know string is enclosed with \"\".\n",
    "So,we have to write:\n",
    "\"I have eaten\" + \"99\" + \"burritos\""
   ]
  },
  {
   "cell_type": "code",
   "execution_count": null,
   "id": "6dfedb53",
   "metadata": {},
   "outputs": [],
   "source": []
  },
  {
   "cell_type": "code",
   "execution_count": null,
   "id": "2f0807e3",
   "metadata": {},
   "outputs": [],
   "source": []
  },
  {
   "cell_type": "code",
   "execution_count": null,
   "id": "461a0f4c",
   "metadata": {},
   "outputs": [],
   "source": []
  },
  {
   "cell_type": "code",
   "execution_count": null,
   "id": "171c3ace",
   "metadata": {},
   "outputs": [],
   "source": []
  }
 ],
 "metadata": {
  "kernelspec": {
   "display_name": "Python 3",
   "language": "python",
   "name": "python3"
  },
  "language_info": {
   "codemirror_mode": {
    "name": "ipython",
    "version": 3
   },
   "file_extension": ".py",
   "mimetype": "text/x-python",
   "name": "python",
   "nbconvert_exporter": "python",
   "pygments_lexer": "ipython3",
   "version": "3.8.8"
  }
 },
 "nbformat": 4,
 "nbformat_minor": 5
}
